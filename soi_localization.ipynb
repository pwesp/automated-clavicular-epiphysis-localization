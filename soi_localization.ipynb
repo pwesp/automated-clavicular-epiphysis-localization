{
 "cells": [
  {
   "cell_type": "markdown",
   "id": "dd895269-e3d4-4fb5-9dd9-05b72c3e6992",
   "metadata": {},
   "source": [
    "## SOI Localization Estimate"
   ]
  },
  {
   "cell_type": "code",
   "execution_count": 1,
   "id": "ed2511d0-f0ae-4354-9cdb-3f24d14ce759",
   "metadata": {
    "tags": []
   },
   "outputs": [],
   "source": [
    "from   ipywidgets import interactive, fixed\n",
    "import numpy as np\n",
    "import matplotlib.pyplot as plt\n",
    "import pandas as pd\n",
    "from   pathlib import Path\n",
    "from   PIL import Image\n",
    "from   utils.evaluation import evaluate_object_detection, evaluate_soi_localization, get_annotated_slices, get_detections, get_ground_truth_bboxes, get_ground_truth_slices, get_scores_and_bboxes\n",
    "from   utils.metrics import IoU\n",
    "from   utils.sets import difference, intersection, union"
   ]
  },
  {
   "cell_type": "markdown",
   "id": "1d60e58d-2e68-4125-ade5-31a5b7a3a00c",
   "metadata": {},
   "source": [
    "### Setup"
   ]
  },
  {
   "cell_type": "code",
   "execution_count": 2,
   "id": "ca714f30-e4de-40e4-8dc6-75376cf596a1",
   "metadata": {},
   "outputs": [],
   "source": [
    "annotation_file = 'my_annotations.csv'\n",
    "results_dir     = 'results'"
   ]
  },
  {
   "cell_type": "markdown",
   "id": "a2de1365-db9d-4cc9-8856-4fd40fd4257c",
   "metadata": {},
   "source": [
    "### Grount truth (annotations)\n",
    "\n",
    "CT slices which have been annotated with a bounding box and a class label"
   ]
  },
  {
   "cell_type": "code",
   "execution_count": 3,
   "id": "ede8ee05-34ab-4275-a34e-139310117d30",
   "metadata": {},
   "outputs": [
    {
     "data": {
      "text/html": [
       "<div>\n",
       "<style scoped>\n",
       "    .dataframe tbody tr th:only-of-type {\n",
       "        vertical-align: middle;\n",
       "    }\n",
       "\n",
       "    .dataframe tbody tr th {\n",
       "        vertical-align: top;\n",
       "    }\n",
       "\n",
       "    .dataframe thead th {\n",
       "        text-align: right;\n",
       "    }\n",
       "</style>\n",
       "<table border=\"1\" class=\"dataframe\">\n",
       "  <thead>\n",
       "    <tr style=\"text-align: right;\">\n",
       "      <th></th>\n",
       "      <th>image_path</th>\n",
       "      <th>x1</th>\n",
       "      <th>y1</th>\n",
       "      <th>x2</th>\n",
       "      <th>y2</th>\n",
       "      <th>class_name</th>\n",
       "      <th>ct_id</th>\n",
       "    </tr>\n",
       "  </thead>\n",
       "  <tbody>\n",
       "    <tr>\n",
       "      <th>177</th>\n",
       "      <td>data/ct_scan_0/ae_0_0_3_s_258.jpg</td>\n",
       "      <td>216.0</td>\n",
       "      <td>230.0</td>\n",
       "      <td>276.0</td>\n",
       "      <td>259.0</td>\n",
       "      <td>sternum</td>\n",
       "      <td>ct_scan_0</td>\n",
       "    </tr>\n",
       "    <tr>\n",
       "      <th>178</th>\n",
       "      <td>data/ct_scan_0/ae_0_0_3_s_259.jpg</td>\n",
       "      <td>214.0</td>\n",
       "      <td>231.0</td>\n",
       "      <td>277.0</td>\n",
       "      <td>259.0</td>\n",
       "      <td>sternum</td>\n",
       "      <td>ct_scan_0</td>\n",
       "    </tr>\n",
       "    <tr>\n",
       "      <th>483</th>\n",
       "      <td>data/ct_scan_1/ae_1_1_3_s_238.jpg</td>\n",
       "      <td>216.0</td>\n",
       "      <td>241.0</td>\n",
       "      <td>289.0</td>\n",
       "      <td>267.0</td>\n",
       "      <td>sternum</td>\n",
       "      <td>ct_scan_1</td>\n",
       "    </tr>\n",
       "    <tr>\n",
       "      <th>692</th>\n",
       "      <td>data/ct_scan_2/ae_10_0_9_s_70.jpg</td>\n",
       "      <td>212.0</td>\n",
       "      <td>194.0</td>\n",
       "      <td>306.0</td>\n",
       "      <td>233.0</td>\n",
       "      <td>sternum</td>\n",
       "      <td>ct_scan_2</td>\n",
       "    </tr>\n",
       "  </tbody>\n",
       "</table>\n",
       "</div>"
      ],
      "text/plain": [
       "                            image_path     x1     y1     x2     y2 class_name  \\\n",
       "177  data/ct_scan_0/ae_0_0_3_s_258.jpg  216.0  230.0  276.0  259.0    sternum   \n",
       "178  data/ct_scan_0/ae_0_0_3_s_259.jpg  214.0  231.0  277.0  259.0    sternum   \n",
       "483  data/ct_scan_1/ae_1_1_3_s_238.jpg  216.0  241.0  289.0  267.0    sternum   \n",
       "692  data/ct_scan_2/ae_10_0_9_s_70.jpg  212.0  194.0  306.0  233.0    sternum   \n",
       "\n",
       "         ct_id  \n",
       "177  ct_scan_0  \n",
       "178  ct_scan_0  \n",
       "483  ct_scan_1  \n",
       "692  ct_scan_2  "
      ]
     },
     "execution_count": 3,
     "metadata": {},
     "output_type": "execute_result"
    }
   ],
   "source": [
    "df_annotated_slices = get_annotated_slices(annotation_file)\n",
    "df_annotated_slices"
   ]
  },
  {
   "cell_type": "markdown",
   "id": "5c5993b4-26e0-4a22-8dba-59a2434a9f97",
   "metadata": {},
   "source": [
    "### Predictions (RetinaNet detections)\n",
    "\n",
    "CT slices for which the RetinaNet has predicted a bounding box and class label"
   ]
  },
  {
   "cell_type": "code",
   "execution_count": 4,
   "id": "3ba6c5a1-059d-4bd1-91a8-f3ee7363b03f",
   "metadata": {},
   "outputs": [
    {
     "data": {
      "text/html": [
       "<div>\n",
       "<style scoped>\n",
       "    .dataframe tbody tr th:only-of-type {\n",
       "        vertical-align: middle;\n",
       "    }\n",
       "\n",
       "    .dataframe tbody tr th {\n",
       "        vertical-align: top;\n",
       "    }\n",
       "\n",
       "    .dataframe thead th {\n",
       "        text-align: right;\n",
       "    }\n",
       "</style>\n",
       "<table border=\"1\" class=\"dataframe\">\n",
       "  <thead>\n",
       "    <tr style=\"text-align: right;\">\n",
       "      <th></th>\n",
       "      <th>retina_net_detections</th>\n",
       "      <th>ct_id</th>\n",
       "    </tr>\n",
       "  </thead>\n",
       "  <tbody>\n",
       "    <tr>\n",
       "      <th>0</th>\n",
       "      <td>results/ct_scan_0/ct_scan_0_predictions.csv</td>\n",
       "      <td>ct_scan_0</td>\n",
       "    </tr>\n",
       "    <tr>\n",
       "      <th>1</th>\n",
       "      <td>results/ct_scan_1/ct_scan_1_predictions.csv</td>\n",
       "      <td>ct_scan_1</td>\n",
       "    </tr>\n",
       "    <tr>\n",
       "      <th>2</th>\n",
       "      <td>results/ct_scan_2/ct_scan_2_predictions.csv</td>\n",
       "      <td>ct_scan_2</td>\n",
       "    </tr>\n",
       "  </tbody>\n",
       "</table>\n",
       "</div>"
      ],
      "text/plain": [
       "                         retina_net_detections      ct_id\n",
       "0  results/ct_scan_0/ct_scan_0_predictions.csv  ct_scan_0\n",
       "1  results/ct_scan_1/ct_scan_1_predictions.csv  ct_scan_1\n",
       "2  results/ct_scan_2/ct_scan_2_predictions.csv  ct_scan_2"
      ]
     },
     "execution_count": 4,
     "metadata": {},
     "output_type": "execute_result"
    }
   ],
   "source": [
    "df_detections = get_detections(results_dir, df_annotated_slices)\n",
    "df_detections"
   ]
  },
  {
   "cell_type": "markdown",
   "id": "a2bfdc73-a36f-4a51-b3fc-8f15423c7966",
   "metadata": {
    "tags": []
   },
   "source": [
    "### Obejct Detection"
   ]
  },
  {
   "cell_type": "code",
   "execution_count": 5,
   "id": "73374337-40ec-4ad2-a853-d1a5e0667fd4",
   "metadata": {},
   "outputs": [
    {
     "name": "stdout",
     "output_type": "stream",
     "text": [
      "Found predictions for n=3 CT scans\n",
      "\n",
      "************************************\n",
      "Scan: ct_scan_0\n",
      "\tTrue slices:     [258 259]\n",
      "\tDetected slices: [258 259]\n",
      "\tIoUs:            [0.73191611 0.865768  ]\n",
      "\n",
      "Confusion matrix:\n",
      "\tn_slices     = 328\n",
      "\tn_annots     = 2\n",
      "\t# TP         = 2/2 (100.00 %)\n",
      "\t# TN         = 326/326 (100.00 %)\n",
      "\t# FP         = 0/326 (0.00 %)\n",
      "\t# FN         = 0/2 (0.00 %)\n",
      "\n",
      "************************************\n",
      "Scan: ct_scan_1\n",
      "\tTrue slices:     [238]\n",
      "\tDetected slices: [238]\n",
      "\tIoUs:            [0.79716465]\n",
      "\n",
      "Confusion matrix:\n",
      "\tn_slices     = 296\n",
      "\tn_annots     = 1\n",
      "\t# TP         = 1/1 (100.00 %)\n",
      "\t# TN         = 295/295 (100.00 %)\n",
      "\t# FP         = 0/295 (0.00 %)\n",
      "\t# FN         = 0/1 (0.00 %)\n",
      "\n",
      "************************************\n",
      "Scan: ct_scan_2\n",
      "\tTrue slices:     [70]\n",
      "\tDetected slices: [70]\n",
      "\tIoUs:            [0.97592318]\n",
      "\n",
      "Confusion matrix:\n",
      "\tn_slices     = 93\n",
      "\tn_annots     = 1\n",
      "\t# TP         = 1/1 (100.00 %)\n",
      "\t# TN         = 92/92 (100.00 %)\n",
      "\t# FP         = 0/92 (0.00 %)\n",
      "\t# FN         = 0/1 (0.00 %)\n",
      "\n",
      "************************************\n",
      "Summary:\n",
      "\tn_scans (total)  = 3\n",
      "\tn_slices (total) = 717\n",
      "\tn_annots (total) = 4\n",
      "\t# TP             = 4/4 (100.0 %)\n",
      "\t# TN             = 713/713 (100.0 %)\n",
      "\t# FP             = 0/713 (0.0 %)\n",
      "\t# FN             = 0/4 (0.0 %)\n",
      "\n",
      "\tMean score in annots = 1.00 [1.00,1.00]\n",
      "\tMean score in tns    = 0.00 [0.00,0.00]\n",
      "\tMean IoU in annots   = 0.83 [0.78,0.89]\n",
      "\tMean IoU in detect   = 0.98 [0.98,0.98]\n"
     ]
    }
   ],
   "source": [
    "evaluate_object_detection(df_detections, df_annotated_slices, print_confusion_matrix=True, print_scans=True)"
   ]
  },
  {
   "cell_type": "markdown",
   "id": "1eda89ea-653b-49ff-82e5-093133fa4c4b",
   "metadata": {
    "tags": []
   },
   "source": [
    "### Structure-Of-Interest (SOI) Localization"
   ]
  },
  {
   "cell_type": "code",
   "execution_count": 6,
   "id": "853fc513-6f9c-446a-8be0-820046dcfd0d",
   "metadata": {
    "tags": []
   },
   "outputs": [
    {
     "name": "stdout",
     "output_type": "stream",
     "text": [
      "Found predictions for n=3 CT scans\n",
      "\n",
      "************************************\n",
      "Scan: ct_scan_0\n",
      "\tTrue slices:      [258 259]\n",
      "\tLocalized slices: [259]\n",
      "\n",
      "************************************\n",
      "Scan: ct_scan_1\n",
      "\tTrue slices:      [238]\n",
      "\tLocalized slices: [238]\n",
      "\n",
      "************************************\n",
      "Scan: ct_scan_2\n",
      "\tTrue slices:      [70]\n",
      "\tLocalized slices: [70]\n",
      "\n",
      "************************************\n",
      "Summary:\n",
      "\n",
      "Confusion matrix:\n",
      "\t#TP = 3\n",
      "\t#FP = 0\n",
      "\t#FN = 0\n",
      "\n",
      "Accuracy = 3/3 (100.00 %)\n",
      "\n",
      "Localization distance:\n",
      "\tAverage localization distance in xy-plane for TPs: 5.2 +/- 3.4 pxl (n=3)\n"
     ]
    }
   ],
   "source": [
    "evaluate_soi_localization(df_detections, df_annotated_slices, print_scans=True)"
   ]
  }
 ],
 "metadata": {
  "kernelspec": {
   "display_name": "Python 3 (ipykernel)",
   "language": "python",
   "name": "python3"
  },
  "language_info": {
   "codemirror_mode": {
    "name": "ipython",
    "version": 3
   },
   "file_extension": ".py",
   "mimetype": "text/x-python",
   "name": "python",
   "nbconvert_exporter": "python",
   "pygments_lexer": "ipython3",
   "version": "3.7.11"
  }
 },
 "nbformat": 4,
 "nbformat_minor": 5
}
